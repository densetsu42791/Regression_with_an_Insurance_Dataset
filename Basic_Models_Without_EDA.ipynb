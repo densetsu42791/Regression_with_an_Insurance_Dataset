{
 "cells": [
  {
   "cell_type": "code",
   "execution_count": 2,
   "metadata": {},
   "outputs": [],
   "source": [
    "import pandas as pd\n",
    "import numpy as np\n",
    "import seaborn as sns\n",
    "import matplotlib.pyplot as plt\n",
    "import matplotlib.gridspec as gridspec\n",
    "import warnings\n",
    "\n",
    "warnings.filterwarnings('ignore')\n",
    "pd.options.display.float_format = '{:.2f}'.format  # Формат вывода\n",
    "pd.options.display.max_columns = 500  # Кол-во отображаемых столбцов\n",
    "%matplotlib inline\n",
    "\n",
    "train = pd.read_csv('train.csv').rename(columns=lambda x: x.replace(' ', '_'))"
   ]
  },
  {
   "cell_type": "code",
   "execution_count": 5,
   "metadata": {},
   "outputs": [],
   "source": [
    "target = 'Premium_Amount'\n",
    "train = train.set_index('id')\n",
    "train = train.drop('Policy_Start_Date', axis=1)\n",
    "\n",
    "num_cols = train.drop(target, axis=1).select_dtypes(include=np.number).columns.tolist()\n",
    "cat_cols = train.select_dtypes(exclude=np.number).columns.tolist()"
   ]
  },
  {
   "cell_type": "code",
   "execution_count": 6,
   "metadata": {},
   "outputs": [],
   "source": [
    "from sklearn.preprocessing import StandardScaler, OneHotEncoder\n",
    "from sklearn.pipeline import Pipeline\n",
    "from sklearn.compose import ColumnTransformer\n",
    "from sklearn.impute import SimpleImputer\n",
    "\n",
    "\n",
    "X = train.drop(target, axis=1)\n",
    "y = np.log1p(train[target])\n",
    "\n",
    "\n",
    "# Пайплайн для числовых данных\n",
    "num_pipeline = Pipeline([\n",
    "    ('imputer', SimpleImputer(strategy='mean')),\n",
    "    ('scaler', StandardScaler())])\n",
    "\n",
    "# Пайплайн для категориальных данных\n",
    "cat_pipeline = Pipeline([\n",
    "    ('imputer', SimpleImputer(strategy='constant', fill_value='Unknown')),\n",
    "    ('onehot', OneHotEncoder(handle_unknown='ignore'))])\n",
    "\n",
    "# Трансформер для обработки данных\n",
    "preprocessor = ColumnTransformer([\n",
    "    ('num', num_pipeline, num_cols),\n",
    "    ('cat', cat_pipeline, cat_cols)])\n",
    "\n",
    "\n",
    "X = preprocessor.fit_transform(X)"
   ]
  },
  {
   "cell_type": "code",
   "execution_count": 10,
   "metadata": {},
   "outputs": [],
   "source": [
    "from sklearn.metrics import mean_squared_error, make_scorer\n",
    "from sklearn.model_selection import cross_validate, train_test_split\n",
    "\n",
    "# Функция для вычисления RMSLE\n",
    "def rmsle(y_true, y_pred):\n",
    "    return np.sqrt(mean_squared_error(y_true, y_pred))\n",
    "\n",
    "# Создание кастомного scorer для GridSearchCV\n",
    "rmsle_scorer = make_scorer(rmsle, greater_is_better=False)"
   ]
  },
  {
   "cell_type": "code",
   "execution_count": 9,
   "metadata": {},
   "outputs": [
    {
     "name": "stdout",
     "output_type": "stream",
     "text": [
      "Средний RMSLE на TrainFold: 1.0430\n",
      "Средний RMSLE на TestFold: 1.0430\n"
     ]
    }
   ],
   "source": [
    "from sklearn.linear_model import LinearRegression\n",
    "\n",
    "model_lr = LinearRegression()\n",
    "\n",
    "cv_lr = cross_validate(model_lr, X, y, scoring=rmsle_scorer, cv=5, return_train_score=True)\n",
    "\n",
    "# Преобразование MSE в RMSLE\n",
    "rmsle_test = np.sqrt(-cv_lr['test_score'])\n",
    "rmsle_train = np.sqrt(-cv_lr['train_score'])\n",
    "\n",
    "print(f'Средний RMSLE на TrainFold: {np.mean(rmsle_train):.4f}')\n",
    "print(f'Средний RMSLE на TestFold: {np.mean(rmsle_test):.4f}')"
   ]
  },
  {
   "cell_type": "code",
   "execution_count": 11,
   "metadata": {},
   "outputs": [
    {
     "name": "stdout",
     "output_type": "stream",
     "text": [
      "RMSLE train: 0.0000\n",
      "RMSLE test: 1.5465\n"
     ]
    }
   ],
   "source": [
    "from sklearn.tree import DecisionTreeRegressor\n",
    "\n",
    "X_train, X_test, y_train, y_test = train_test_split(X, y, test_size=0.2, random_state=33)\n",
    "\n",
    "model_dt = DecisionTreeRegressor(random_state=33)\n",
    "model_dt.fit(X_train, y_train)\n",
    "\n",
    "# Предсказания на обучающей и тестовой выборках\n",
    "y_train_pred = model_dt.predict(X_train)\n",
    "y_test_pred = model_dt.predict(X_test)\n",
    "\n",
    "\n",
    "rmsle_train = rmsle(y_train, y_train_pred)\n",
    "rmsle_test = rmsle(y_test, y_test_pred)\n",
    "\n",
    "# Вывод результатов\n",
    "print(f'RMSLE train: {rmsle_train:.4f}')\n",
    "print(f'RMSLE test: {rmsle_test:.4f}')"
   ]
  }
 ],
 "metadata": {
  "kernelspec": {
   "display_name": "base2",
   "language": "python",
   "name": "python3"
  },
  "language_info": {
   "codemirror_mode": {
    "name": "ipython",
    "version": 3
   },
   "file_extension": ".py",
   "mimetype": "text/x-python",
   "name": "python",
   "nbconvert_exporter": "python",
   "pygments_lexer": "ipython3",
   "version": "3.8.20"
  }
 },
 "nbformat": 4,
 "nbformat_minor": 2
}
